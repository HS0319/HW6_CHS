{
 "cells": [
  {
   "cell_type": "code",
   "execution_count": 2,
   "id": "a846f75f",
   "metadata": {},
   "outputs": [],
   "source": [
    "import csv\n",
    "import random\n",
    "\n",
    "\n",
    "if __name__ == \"__main__\":\n",
    "    f = open('q2.csv', 'w')\n",
    "    writer = csv.writer(f)\n",
    "    dice100 = []\n",
    "    dice1000 = []\n",
    "    dice10000 = []\n",
    "    dice100000 = []\n",
    "    for i in range(100) :\n",
    "        dice100.append(random.randint(1,6))\n",
    "    for i in range(1000) :\n",
    "        dice1000.append(random.randint(1,6))\n",
    "    for i in range(10000) :\n",
    "        dice10000.append(random.randint(1,6))\n",
    "    for i in range(100000) :\n",
    "        dice100000.append(random.randint(1,6))\n",
    "    writer.writerow(dice100)\n",
    "    writer.writerow(dice1000)\n",
    "    writer.writerow(dice10000)\n",
    "    writer.writerow(dice100000)\n",
    "    f.close()"
   ]
  },
  {
   "cell_type": "code",
   "execution_count": null,
   "id": "8d1d7a9e",
   "metadata": {},
   "outputs": [],
   "source": []
  }
 ],
 "metadata": {
  "kernelspec": {
   "display_name": "Python 3 (ipykernel)",
   "language": "python",
   "name": "python3"
  },
  "language_info": {
   "codemirror_mode": {
    "name": "ipython",
    "version": 3
   },
   "file_extension": ".py",
   "mimetype": "text/x-python",
   "name": "python",
   "nbconvert_exporter": "python",
   "pygments_lexer": "ipython3",
   "version": "3.9.13"
  }
 },
 "nbformat": 4,
 "nbformat_minor": 5
}
